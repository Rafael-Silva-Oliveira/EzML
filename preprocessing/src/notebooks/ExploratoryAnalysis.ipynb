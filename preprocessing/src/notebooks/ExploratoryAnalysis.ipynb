{
 "cells": [
  {
   "cell_type": "code",
   "execution_count": null,
   "metadata": {},
   "outputs": [],
   "source": [
    "import pandas as pd\n",
    "from ydata_profiling import ProfileReport\n",
    "from loguru import logger\n",
    "import seaborn as sns\n",
    "import matplotlib.pyplot as plt\n",
    "\n",
    "import importlib\n"
   ]
  },
  {
   "cell_type": "code",
   "execution_count": null,
   "metadata": {},
   "outputs": [],
   "source": [
    "# Load data"
   ]
  },
  {
   "cell_type": "code",
   "execution_count": null,
   "metadata": {},
   "outputs": [],
   "source": [
    "\n",
    "\n",
    "class ExploratoryAnalysis(object):\n",
    "\n",
    "    def __init__(self, config, saving_path):\n",
    "        self.config = config\n",
    "        self.saving_path = saving_path\n",
    "\n",
    "    def pandas_profiling(self, data):\n",
    "\n",
    "        profile = ProfileReport(data, title=\"Profiling Report\", minimal=True)\n",
    "        profile.to_file(f\"{self.saving_path}\\\\Files\\\\BreastCancerReport.html\")\n",
    "\n",
    "        return profile\n",
    "\n",
    "    def correlation_matrix(self, data): ...\n",
    "\n",
    "    def data_proportions(self): ...\n",
    "\n",
    "    def PCA(self): ...\n",
    "\n",
    "    def HClustering(self): ...\n",
    "\n",
    "    def UMAP(self): ...\n",
    "    def plot_missing_data(self, df):\n",
    "\n",
    "        # Finding missing data and the percentage of it in each column\n",
    "        total = df.isnull().sum().sort_values(ascending=False)\n",
    "        percent = (df.isnull().sum() / df.isnull().count()).sort_values(ascending=False)\n",
    "        missing_data = pd.concat(\n",
    "            [total, percent], axis=1, keys=[\"Total_NaN\", \"Percent_Nan\"]\n",
    "        )\n",
    "        logger.info(f\"Missing data:\\n {missing_data}\")\n",
    "\n",
    "        # Visualization of missing data\n",
    "        fig, ax = plt.subplots(figsize=(15, 8))\n",
    "        sns.heatmap(df.isnull(), yticklabels=False, cbar=False, cmap=\"viridis\")\n",
    "        ax.set_title(\"Main Data Frame\")\n",
    "        with plt.rc_context():  # Use this to set figure params like size and dpi\n",
    "            plt.savefig(\n",
    "                f\"{self.saving_path}\\\\Plots\\\\MissingData.png\",\n",
    "                bbox_inches=\"tight\",\n",
    "            )\n",
    "        plt.close()\n"
   ]
  },
  {
   "cell_type": "code",
   "execution_count": null,
   "metadata": {},
   "outputs": [],
   "source": []
  }
 ],
 "metadata": {
  "language_info": {
   "name": "python"
  }
 },
 "nbformat": 4,
 "nbformat_minor": 2
}
